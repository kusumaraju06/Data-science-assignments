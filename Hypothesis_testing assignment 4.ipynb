{
 "cells": [
  {
   "cell_type": "code",
   "execution_count": 1,
   "metadata": {
    "colab": {
     "base_uri": "https://localhost:8080/"
    },
    "id": "3u7hDDj8pqEe",
    "outputId": "2deff3f2-5190-4de3-a20e-12d8631e2048"
   },
   "outputs": [
    {
     "name": "stdout",
     "output_type": "stream",
     "text": [
      "Hypothesis Testing for Weekly Operating Costs\n",
      "\n",
      "Theoretical Mean Weekly Cost: 4000\n",
      "\n",
      "Sample Mean Weekly Cost: 3050\n",
      "\n",
      "Sample Size: 25\n",
      "\n",
      "Standard Deviation of Weekly Operating Cost: 125\n",
      "\n",
      "Test Statistic (Z): -38.0\n",
      "\n",
      "Critical Value at alpha=0.05: 1.6448536269514722\n",
      "\n",
      "Reject the null hypothesis: False\n",
      "\n",
      "\n",
      "Conclusion: There is not enough evidence to support the restaurant owners' claim that the weekly operating costs are higher than the model suggests.\n"
     ]
    }
   ],
   "source": [
    "import numpy as np\n",
    "import scipy.stats as stats\n",
    "\n",
    "def compute_test_statistic(sample_mean, theoretical_mean, std_dev_W, n):\n",
    "    return (sample_mean - theoretical_mean) / (std_dev_W / np.sqrt(n))\n",
    "\n",
    "def determine_critical_value(alpha):\n",
    "    return stats.norm.ppf(1 - alpha)\n",
    "\n",
    "def make_decision(z_stat, critical_value):\n",
    "    return z_stat > critical_value\n",
    "\n",
    "def main():\n",
    "    sample_mean = 3050\n",
    "    theoretical_mean = 1000 + 5 * 600\n",
    "    std_dev_X = 25\n",
    "    n = 25\n",
    "    alpha = 0.05\n",
    "    std_dev_W = 5 * std_dev_X\n",
    "    z_stat = compute_test_statistic(sample_mean, theoretical_mean, std_dev_W, n) \n",
    "    critical_value = determine_critical_value(alpha)\n",
    "    reject_null = make_decision(z_stat, critical_value)\n",
    "\n",
    "    print(\"Hypothesis Testing for Weekly Operating Costs\")\n",
    "    print(\"\\nTheoretical Mean Weekly Cost:\", theoretical_mean)\n",
    "    print(\"\\nSample Mean Weekly Cost:\", sample_mean)\n",
    "    print(\"\\nSample Size:\", n)\n",
    "    print(\"\\nStandard Deviation of Weekly Operating Cost:\", std_dev_W)\n",
    "    print(\"\\nTest Statistic (Z):\", z_stat)\n",
    "    print(\"\\nCritical Value at alpha={0:.2f}:\".format(alpha), critical_value)\n",
    "    print(\"\\nReject the null hypothesis:\", reject_null)\n",
    "    print(\"\\n\")\n",
    "\n",
    "    # Conclusion\n",
    "    if reject_null:\n",
    "        print(\"Conclusion: There is strong evidence to support the restaurant owners' claim that the weekly operating costs are higher than the model suggests.\")\n",
    "    else:\n",
    "        print(\"Conclusion: There is not enough evidence to support the restaurant owners' claim that the weekly operating costs are higher than the model suggests.\")\n",
    "\n",
    "if __name__ == \"__main__\":\n",
    "    main()\n"
   ]
  },
  {
   "cell_type": "code",
   "execution_count": null,
   "metadata": {
    "id": "ukKOezVoEk8n"
   },
   "outputs": [],
   "source": []
  }
 ],
 "metadata": {
  "colab": {
   "provenance": []
  },
  "kernelspec": {
   "display_name": "Python 3 (ipykernel)",
   "language": "python",
   "name": "python3"
  },
  "language_info": {
   "codemirror_mode": {
    "name": "ipython",
    "version": 3
   },
   "file_extension": ".py",
   "mimetype": "text/x-python",
   "name": "python",
   "nbconvert_exporter": "python",
   "pygments_lexer": "ipython3",
   "version": "3.11.7"
  }
 },
 "nbformat": 4,
 "nbformat_minor": 4
}
